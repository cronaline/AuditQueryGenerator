{
 "cells": [
  {
   "cell_type": "code",
   "execution_count": 1,
   "metadata": {},
   "outputs": [],
   "source": [
    "import nbformat\n",
    "from nbformat import v4 as nbf"
   ]
  },
  {
   "cell_type": "markdown",
   "metadata": {},
   "source": [
    "### Tablas a auditar (editar)\n",
    "> Por cada tabla agregar un elemento a la lista, cada elemento de la lista es un diccionario.<br>Los elementos de dicho diccionarios son:\n",
    ">- **ram**: nombre de la tabla en raw\n",
    ">- **master**: nombre de la tabla en master\n",
    ">- **rawRules**: numero de las reglas aplicadas en raw \n",
    ">- **masterRules**: numero de las reglas aplicadas en master\n",
    "\n",
    "> Las reglas generadas estarán contenidas en otro notebook llamado **\"auditoria_notebook.ipynb\"**. Cada ejecución lo reescribirá.\n",
    "\n",
    "Elaboró:<br> **Daniel García\n",
    "<br>daniel.garcia@tuta.io**"
   ]
  },
  {
   "cell_type": "code",
   "execution_count": 2,
   "metadata": {},
   "outputs": [],
   "source": [
    "tables = [\n",
    "    {\"raw\": \"t_crm_regresos_operadores_smc_c\", \"master\": \"t_ft1l_regresos_operadores_smc\",\n",
    "     \"rawRules\": [\"2.1\", \"2.4\", \"2.2\"], \"masterRules\": [\"1.1\", \"2.3\", \"3.1\"]},\n",
    "    {\"raw\": \"t_crm_regresos_operadores_ato_c\", \"master\": \"t_ft1l_regresos_operadores_ato\",\n",
    "     \"rawRules\": [\"2.1\", \"2.4\", \"2.2\"], \"masterRules\": [\"1.1\", \"2.3\", \"3.1\"]},\n",
    "    {\"raw\": \"t_crm_regresos_operadores_muz_c\", \"master\": \"t_ft1l_regresos_operadores_muz\",\n",
    "     \"rawRules\": [\"2.1\", \"2.4\", \"2.2\"], \"masterRules\": [\"1.1\", \"2.3\", \"3.1\"]},\n",
    "    {\"raw\": \"t_crm_regresos_operadores_vcp_c\", \"master\": \"t_ft1l_regresos_operadores_vcp\",\n",
    "     \"rawRules\": [\"2.1\", \"2.4\", \"2.2\"], \"masterRules\": [\"1.1\", \"2.3\", \"3.1\"]}\n",
    "]"
   ]
  },
  {
   "cell_type": "markdown",
   "metadata": {},
   "source": [
    "### Catalogo de reglas de Hammurabi"
   ]
  },
  {
   "cell_type": "code",
   "execution_count": 3,
   "metadata": {},
   "outputs": [],
   "source": [
    "rulesCatalog = {\n",
    "    \"1.1\": [\"Availability\",\"com.rules.availability.DateRangeFileRule\"],\n",
    "    \"1.2\": [\"Availability\",\"com.rules.availability.DateValidationRule\"],\n",
    "    \"2.1\": [\"Completeness\",\"com.rules.completeness.CompletenessRule\"],\n",
    "    \"2.2\": [\"Completeness\",\"com.rules.completeness.BasicPerimeterCompletenessRule\"],\n",
    "    \"2.3\": [\"Completeness\",\"com.rules.completeness.ConditionalPerimeterCompletenessRule\"],\n",
    "    \"2.4\": [\"Completeness\",\"com.rules.completeness.MetadataCompletenessRule\"],\n",
    "    \"3.1\": [\"Validity\",\"com.rules.validity.NotNullValidationRule\"],\n",
    "    \"3.2\": [\"Validity\",\"com.rules.validity.FormatValidationRule\"],\n",
    "    \"3.3\": [\"Validity\",\"com.rules.validity.StaticForbiddenValuesRule\"],\n",
    "    \"3.4\": [\"Validity\",\"com.rules.validity.NumericRangeRule\"],\n",
    "    \"3.5\": [\"Validity\",\"com.rules.validity.StaticCatalogRule\"],\n",
    "    \"4.2\": [\"Consistence\",\"com.datio.consistence.DuplicateRule\"],\n",
    "    \"4.3\": [\"Consistence\",\"com.datio.consistence.ValueConciliationRule\"],\n",
    "    \"5.2\": [\"Integrity\",\"com.rules.integrity.ValueComparisonRule\"],\n",
    "    \"6.1\": [\"Accuracy\",\"com.rules.accuracy.StaticGatheringRule\"],\n",
    "    \"6.2\": [\"Accuracy\",\"com.rules.accuracy.ValueSensitivityThresholdRule\"],\n",
    "    \"6.4\": [\"Accuracy\",\"com.rules.accuracy.ValueVariationRule\"],\n",
    "    \"6.9\": [\"Accuracy\",\"com.rules.accuracy.VolumetricTrendRule\"]\n",
    "}"
   ]
  },
  {
   "cell_type": "markdown",
   "metadata": {},
   "source": [
    "### Lectura de las estadisticas y columnas a seleccionar"
   ]
  },
  {
   "cell_type": "code",
   "execution_count": 4,
   "metadata": {},
   "outputs": [],
   "source": [
    "initHammurabi = f\"\"\"val hamm = spark.read.option(\"mergeSchema\", \"true\").parquet(\"/data/master/dq/haas/t_kqpd_stats/*\")\"\"\"\n",
    "columns = f'''\\t\"gf_cutoff_date\",\n",
    "    \"g_quality_rule_principle_type\",\n",
    "    \"g_quality_rule_type\",\n",
    "    \"gf_quality_rule_compliance_per\",         \n",
    "    \"gf_qr_cplc_numerator_number\",   \n",
    "    \"gf_qr_cplc_denominator_number\",  \n",
    "    \"gf_qr_tg_object_physical_name\",\n",
    "    \"gf_qr_aux_attribute_desc\",   \n",
    "    \"gf_qr_aux_attribute1_desc\"'''"
   ]
  },
  {
   "cell_type": "markdown",
   "metadata": {},
   "source": [
    "### Consulta a ejecutar en la tabla"
   ]
  },
  {
   "cell_type": "code",
   "execution_count": 5,
   "metadata": {},
   "outputs": [],
   "source": [
    "query = '''hamm.filter(\n",
    "    (($\"g_quality_rule_principle_type\"  === \"{}\")  &&\n",
    "    ($\"g_quality_rule_type\"    === \"{}\")) &&\n",
    "    ($\"gf_qr_tg_object_physical_name\" === \"{}\")\n",
    ")\n",
    ".select(\n",
    "{}\n",
    ").show(false)'''"
   ]
  },
  {
   "cell_type": "markdown",
   "metadata": {},
   "source": [
    "### Función para crear las reglas de consulta"
   ]
  },
  {
   "cell_type": "code",
   "execution_count": 6,
   "metadata": {},
   "outputs": [],
   "source": [
    "def createQueries(table, rules):\n",
    "    for rule in rules:\n",
    "        values = rule.split(\".\")\n",
    "        cells.extend([\n",
    "            nbf.new_markdown_cell(\"### Regla \"+rule+\": \"+ rulesCatalog[rule][1].rsplit('.',1)[1]),\n",
    "            nbf.new_code_cell(query.format(values[0], values[1], table, columns))\n",
    "        ])"
   ]
  },
  {
   "cell_type": "markdown",
   "metadata": {},
   "source": [
    "### Escritura del encabezado e imports"
   ]
  },
  {
   "cell_type": "code",
   "execution_count": 7,
   "metadata": {},
   "outputs": [],
   "source": [
    "nb = nbf.new_notebook()\n",
    "cells = []\n",
    "cells.extend([\n",
    "    nbf.new_markdown_cell(\"# Cifras de Auditoria\"),\n",
    "    nbf.new_code_cell(initHammurabi)\n",
    "])"
   ]
  },
  {
   "cell_type": "markdown",
   "metadata": {},
   "source": [
    "### Escritura de reglas en el notebook"
   ]
  },
  {
   "cell_type": "code",
   "execution_count": 8,
   "metadata": {},
   "outputs": [],
   "source": [
    "for table in tables:\n",
    "    cells.extend([\n",
    "        nbf.new_markdown_cell(\"***\"),\n",
    "        nbf.new_markdown_cell(\"# Tablas:\\n* \" + table[\"raw\"] +\"\\n* \" + table[\"master\"])\n",
    "    ])\n",
    "    cells.append(nbf.new_markdown_cell(\"## Raw: \"+table[\"raw\"]))\n",
    "    createQueries(table[\"raw\"], table[\"rawRules\"])\n",
    "    cells.append(nbf.new_markdown_cell(\"## Master: \"+table[\"master\"]))\n",
    "    createQueries(table[\"master\"], table[\"masterRules\"])"
   ]
  },
  {
   "cell_type": "markdown",
   "metadata": {},
   "source": [
    "### Creación del nuevo notebook"
   ]
  },
  {
   "cell_type": "code",
   "execution_count": 9,
   "metadata": {},
   "outputs": [],
   "source": [
    "nb.cells.extend(cells)\n",
    "with open('auditoria_notebook.ipynb', 'w') as f:\n",
    "    nbformat.write(nb, f)"
   ]
  }
 ],
 "metadata": {
  "kernelspec": {
   "display_name": "Python 3 (ipykernel)",
   "language": "python",
   "name": "python3"
  },
  "language_info": {
   "codemirror_mode": {
    "name": "ipython",
    "version": 3
   },
   "file_extension": ".py",
   "mimetype": "text/x-python",
   "name": "python",
   "nbconvert_exporter": "python",
   "pygments_lexer": "ipython3",
   "version": "3.10.0"
  }
 },
 "nbformat": 4,
 "nbformat_minor": 4
}
