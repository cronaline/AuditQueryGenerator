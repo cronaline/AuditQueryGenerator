{
 "cells": [
  {
   "cell_type": "markdown",
   "id": "cbfb7184",
   "metadata": {},
   "source": [
    "# Cifras de Auditoria"
   ]
  },
  {
   "cell_type": "code",
   "execution_count": null,
   "id": "bdbc21ec",
   "metadata": {},
   "outputs": [],
   "source": [
    "val hamm = spark.read.option(\"mergeSchema\", \"true\").parquet(\"/data/master/dq/haas/t_kqpd_stats/*\")"
   ]
  },
  {
   "cell_type": "markdown",
   "id": "e1347d1c",
   "metadata": {},
   "source": [
    "***"
   ]
  },
  {
   "cell_type": "markdown",
   "id": "1566f41c",
   "metadata": {},
   "source": [
    "# Tablas:\n",
    "* t_crm_regresos_operadores_smc_c\n",
    "* t_ft1l_regresos_operadores_smc"
   ]
  },
  {
   "cell_type": "markdown",
   "id": "119ebf44",
   "metadata": {},
   "source": [
    "## Raw: t_crm_regresos_operadores_smc_c"
   ]
  },
  {
   "cell_type": "markdown",
   "id": "4e283829",
   "metadata": {},
   "source": [
    "### Regla 2.1: CompletenessRule"
   ]
  },
  {
   "cell_type": "code",
   "execution_count": null,
   "id": "3c05a311",
   "metadata": {},
   "outputs": [],
   "source": [
    "hamm.filter(\n",
    "    (($\"g_quality_rule_principle_type\"  === \"2\")  &&\n",
    "    ($\"g_quality_rule_type\"    === \"1\")) &&\n",
    "    ($\"gf_qr_tg_object_physical_name\" === \"t_crm_regresos_operadores_smc_c\")\n",
    ")\n",
    ".select(\n",
    "\t\"gf_cutoff_date\",\n",
    "    \"g_quality_rule_principle_type\",\n",
    "    \"g_quality_rule_type\",\n",
    "    \"gf_quality_rule_compliance_per\",         \n",
    "    \"gf_qr_cplc_numerator_number\",   \n",
    "    \"gf_qr_cplc_denominator_number\",  \n",
    "    \"gf_qr_tg_object_physical_name\",\n",
    "    \"gf_qr_aux_attribute_desc\",   \n",
    "    \"gf_qr_aux_attribute1_desc\"\n",
    ").show(false)"
   ]
  },
  {
   "cell_type": "markdown",
   "id": "5a18eede",
   "metadata": {},
   "source": [
    "### Regla 2.4: MetadataCompletenessRule"
   ]
  },
  {
   "cell_type": "code",
   "execution_count": null,
   "id": "90ee57a2",
   "metadata": {},
   "outputs": [],
   "source": [
    "hamm.filter(\n",
    "    (($\"g_quality_rule_principle_type\"  === \"2\")  &&\n",
    "    ($\"g_quality_rule_type\"    === \"4\")) &&\n",
    "    ($\"gf_qr_tg_object_physical_name\" === \"t_crm_regresos_operadores_smc_c\")\n",
    ")\n",
    ".select(\n",
    "\t\"gf_cutoff_date\",\n",
    "    \"g_quality_rule_principle_type\",\n",
    "    \"g_quality_rule_type\",\n",
    "    \"gf_quality_rule_compliance_per\",         \n",
    "    \"gf_qr_cplc_numerator_number\",   \n",
    "    \"gf_qr_cplc_denominator_number\",  \n",
    "    \"gf_qr_tg_object_physical_name\",\n",
    "    \"gf_qr_aux_attribute_desc\",   \n",
    "    \"gf_qr_aux_attribute1_desc\"\n",
    ").show(false)"
   ]
  },
  {
   "cell_type": "markdown",
   "id": "2bfa7098",
   "metadata": {},
   "source": [
    "### Regla 2.2: BasicPerimeterCompletenessRule"
   ]
  },
  {
   "cell_type": "code",
   "execution_count": null,
   "id": "af929bc5",
   "metadata": {},
   "outputs": [],
   "source": [
    "hamm.filter(\n",
    "    (($\"g_quality_rule_principle_type\"  === \"2\")  &&\n",
    "    ($\"g_quality_rule_type\"    === \"2\")) &&\n",
    "    ($\"gf_qr_tg_object_physical_name\" === \"t_crm_regresos_operadores_smc_c\")\n",
    ")\n",
    ".select(\n",
    "\t\"gf_cutoff_date\",\n",
    "    \"g_quality_rule_principle_type\",\n",
    "    \"g_quality_rule_type\",\n",
    "    \"gf_quality_rule_compliance_per\",         \n",
    "    \"gf_qr_cplc_numerator_number\",   \n",
    "    \"gf_qr_cplc_denominator_number\",  \n",
    "    \"gf_qr_tg_object_physical_name\",\n",
    "    \"gf_qr_aux_attribute_desc\",   \n",
    "    \"gf_qr_aux_attribute1_desc\"\n",
    ").show(false)"
   ]
  },
  {
   "cell_type": "markdown",
   "id": "038efaa0",
   "metadata": {},
   "source": [
    "## Master: t_ft1l_regresos_operadores_smc"
   ]
  },
  {
   "cell_type": "markdown",
   "id": "929ef482",
   "metadata": {},
   "source": [
    "### Regla 1.1: DateRangeFileRule"
   ]
  },
  {
   "cell_type": "code",
   "execution_count": null,
   "id": "60ba2abe",
   "metadata": {},
   "outputs": [],
   "source": [
    "hamm.filter(\n",
    "    (($\"g_quality_rule_principle_type\"  === \"1\")  &&\n",
    "    ($\"g_quality_rule_type\"    === \"1\")) &&\n",
    "    ($\"gf_qr_tg_object_physical_name\" === \"t_ft1l_regresos_operadores_smc\")\n",
    ")\n",
    ".select(\n",
    "\t\"gf_cutoff_date\",\n",
    "    \"g_quality_rule_principle_type\",\n",
    "    \"g_quality_rule_type\",\n",
    "    \"gf_quality_rule_compliance_per\",         \n",
    "    \"gf_qr_cplc_numerator_number\",   \n",
    "    \"gf_qr_cplc_denominator_number\",  \n",
    "    \"gf_qr_tg_object_physical_name\",\n",
    "    \"gf_qr_aux_attribute_desc\",   \n",
    "    \"gf_qr_aux_attribute1_desc\"\n",
    ").show(false)"
   ]
  },
  {
   "cell_type": "markdown",
   "id": "27b1d819",
   "metadata": {},
   "source": [
    "### Regla 2.3: ConditionalPerimeterCompletenessRule"
   ]
  },
  {
   "cell_type": "code",
   "execution_count": null,
   "id": "02829f00",
   "metadata": {},
   "outputs": [],
   "source": [
    "hamm.filter(\n",
    "    (($\"g_quality_rule_principle_type\"  === \"2\")  &&\n",
    "    ($\"g_quality_rule_type\"    === \"3\")) &&\n",
    "    ($\"gf_qr_tg_object_physical_name\" === \"t_ft1l_regresos_operadores_smc\")\n",
    ")\n",
    ".select(\n",
    "\t\"gf_cutoff_date\",\n",
    "    \"g_quality_rule_principle_type\",\n",
    "    \"g_quality_rule_type\",\n",
    "    \"gf_quality_rule_compliance_per\",         \n",
    "    \"gf_qr_cplc_numerator_number\",   \n",
    "    \"gf_qr_cplc_denominator_number\",  \n",
    "    \"gf_qr_tg_object_physical_name\",\n",
    "    \"gf_qr_aux_attribute_desc\",   \n",
    "    \"gf_qr_aux_attribute1_desc\"\n",
    ").show(false)"
   ]
  },
  {
   "cell_type": "markdown",
   "id": "2242d5e1",
   "metadata": {},
   "source": [
    "### Regla 3.1: NotNullValidationRule"
   ]
  },
  {
   "cell_type": "code",
   "execution_count": null,
   "id": "4b361e3c",
   "metadata": {},
   "outputs": [],
   "source": [
    "hamm.filter(\n",
    "    (($\"g_quality_rule_principle_type\"  === \"3\")  &&\n",
    "    ($\"g_quality_rule_type\"    === \"1\")) &&\n",
    "    ($\"gf_qr_tg_object_physical_name\" === \"t_ft1l_regresos_operadores_smc\")\n",
    ")\n",
    ".select(\n",
    "\t\"gf_cutoff_date\",\n",
    "    \"g_quality_rule_principle_type\",\n",
    "    \"g_quality_rule_type\",\n",
    "    \"gf_quality_rule_compliance_per\",         \n",
    "    \"gf_qr_cplc_numerator_number\",   \n",
    "    \"gf_qr_cplc_denominator_number\",  \n",
    "    \"gf_qr_tg_object_physical_name\",\n",
    "    \"gf_qr_aux_attribute_desc\",   \n",
    "    \"gf_qr_aux_attribute1_desc\"\n",
    ").show(false)"
   ]
  },
  {
   "cell_type": "markdown",
   "id": "9065e474",
   "metadata": {},
   "source": [
    "***"
   ]
  },
  {
   "cell_type": "markdown",
   "id": "991dc5da",
   "metadata": {},
   "source": [
    "# Tablas:\n",
    "* t_crm_regresos_operadores_ato_c\n",
    "* t_ft1l_regresos_operadores_ato"
   ]
  },
  {
   "cell_type": "markdown",
   "id": "b9354ab1",
   "metadata": {},
   "source": [
    "## Raw: t_crm_regresos_operadores_ato_c"
   ]
  },
  {
   "cell_type": "markdown",
   "id": "8e2395fa",
   "metadata": {},
   "source": [
    "### Regla 2.1: CompletenessRule"
   ]
  },
  {
   "cell_type": "code",
   "execution_count": null,
   "id": "477b97d6",
   "metadata": {},
   "outputs": [],
   "source": [
    "hamm.filter(\n",
    "    (($\"g_quality_rule_principle_type\"  === \"2\")  &&\n",
    "    ($\"g_quality_rule_type\"    === \"1\")) &&\n",
    "    ($\"gf_qr_tg_object_physical_name\" === \"t_crm_regresos_operadores_ato_c\")\n",
    ")\n",
    ".select(\n",
    "\t\"gf_cutoff_date\",\n",
    "    \"g_quality_rule_principle_type\",\n",
    "    \"g_quality_rule_type\",\n",
    "    \"gf_quality_rule_compliance_per\",         \n",
    "    \"gf_qr_cplc_numerator_number\",   \n",
    "    \"gf_qr_cplc_denominator_number\",  \n",
    "    \"gf_qr_tg_object_physical_name\",\n",
    "    \"gf_qr_aux_attribute_desc\",   \n",
    "    \"gf_qr_aux_attribute1_desc\"\n",
    ").show(false)"
   ]
  },
  {
   "cell_type": "markdown",
   "id": "c6966679",
   "metadata": {},
   "source": [
    "### Regla 2.4: MetadataCompletenessRule"
   ]
  },
  {
   "cell_type": "code",
   "execution_count": null,
   "id": "90fbb716",
   "metadata": {},
   "outputs": [],
   "source": [
    "hamm.filter(\n",
    "    (($\"g_quality_rule_principle_type\"  === \"2\")  &&\n",
    "    ($\"g_quality_rule_type\"    === \"4\")) &&\n",
    "    ($\"gf_qr_tg_object_physical_name\" === \"t_crm_regresos_operadores_ato_c\")\n",
    ")\n",
    ".select(\n",
    "\t\"gf_cutoff_date\",\n",
    "    \"g_quality_rule_principle_type\",\n",
    "    \"g_quality_rule_type\",\n",
    "    \"gf_quality_rule_compliance_per\",         \n",
    "    \"gf_qr_cplc_numerator_number\",   \n",
    "    \"gf_qr_cplc_denominator_number\",  \n",
    "    \"gf_qr_tg_object_physical_name\",\n",
    "    \"gf_qr_aux_attribute_desc\",   \n",
    "    \"gf_qr_aux_attribute1_desc\"\n",
    ").show(false)"
   ]
  },
  {
   "cell_type": "markdown",
   "id": "1bc16e00",
   "metadata": {},
   "source": [
    "### Regla 2.2: BasicPerimeterCompletenessRule"
   ]
  },
  {
   "cell_type": "code",
   "execution_count": null,
   "id": "9fb19ffc",
   "metadata": {},
   "outputs": [],
   "source": [
    "hamm.filter(\n",
    "    (($\"g_quality_rule_principle_type\"  === \"2\")  &&\n",
    "    ($\"g_quality_rule_type\"    === \"2\")) &&\n",
    "    ($\"gf_qr_tg_object_physical_name\" === \"t_crm_regresos_operadores_ato_c\")\n",
    ")\n",
    ".select(\n",
    "\t\"gf_cutoff_date\",\n",
    "    \"g_quality_rule_principle_type\",\n",
    "    \"g_quality_rule_type\",\n",
    "    \"gf_quality_rule_compliance_per\",         \n",
    "    \"gf_qr_cplc_numerator_number\",   \n",
    "    \"gf_qr_cplc_denominator_number\",  \n",
    "    \"gf_qr_tg_object_physical_name\",\n",
    "    \"gf_qr_aux_attribute_desc\",   \n",
    "    \"gf_qr_aux_attribute1_desc\"\n",
    ").show(false)"
   ]
  },
  {
   "cell_type": "markdown",
   "id": "23dc0010",
   "metadata": {},
   "source": [
    "## Master: t_ft1l_regresos_operadores_ato"
   ]
  },
  {
   "cell_type": "markdown",
   "id": "ccf13595",
   "metadata": {},
   "source": [
    "### Regla 1.1: DateRangeFileRule"
   ]
  },
  {
   "cell_type": "code",
   "execution_count": null,
   "id": "09f5491d",
   "metadata": {},
   "outputs": [],
   "source": [
    "hamm.filter(\n",
    "    (($\"g_quality_rule_principle_type\"  === \"1\")  &&\n",
    "    ($\"g_quality_rule_type\"    === \"1\")) &&\n",
    "    ($\"gf_qr_tg_object_physical_name\" === \"t_ft1l_regresos_operadores_ato\")\n",
    ")\n",
    ".select(\n",
    "\t\"gf_cutoff_date\",\n",
    "    \"g_quality_rule_principle_type\",\n",
    "    \"g_quality_rule_type\",\n",
    "    \"gf_quality_rule_compliance_per\",         \n",
    "    \"gf_qr_cplc_numerator_number\",   \n",
    "    \"gf_qr_cplc_denominator_number\",  \n",
    "    \"gf_qr_tg_object_physical_name\",\n",
    "    \"gf_qr_aux_attribute_desc\",   \n",
    "    \"gf_qr_aux_attribute1_desc\"\n",
    ").show(false)"
   ]
  },
  {
   "cell_type": "markdown",
   "id": "08ac1257",
   "metadata": {},
   "source": [
    "### Regla 2.3: ConditionalPerimeterCompletenessRule"
   ]
  },
  {
   "cell_type": "code",
   "execution_count": null,
   "id": "076f0cea",
   "metadata": {},
   "outputs": [],
   "source": [
    "hamm.filter(\n",
    "    (($\"g_quality_rule_principle_type\"  === \"2\")  &&\n",
    "    ($\"g_quality_rule_type\"    === \"3\")) &&\n",
    "    ($\"gf_qr_tg_object_physical_name\" === \"t_ft1l_regresos_operadores_ato\")\n",
    ")\n",
    ".select(\n",
    "\t\"gf_cutoff_date\",\n",
    "    \"g_quality_rule_principle_type\",\n",
    "    \"g_quality_rule_type\",\n",
    "    \"gf_quality_rule_compliance_per\",         \n",
    "    \"gf_qr_cplc_numerator_number\",   \n",
    "    \"gf_qr_cplc_denominator_number\",  \n",
    "    \"gf_qr_tg_object_physical_name\",\n",
    "    \"gf_qr_aux_attribute_desc\",   \n",
    "    \"gf_qr_aux_attribute1_desc\"\n",
    ").show(false)"
   ]
  },
  {
   "cell_type": "markdown",
   "id": "a33f6487",
   "metadata": {},
   "source": [
    "### Regla 3.1: NotNullValidationRule"
   ]
  },
  {
   "cell_type": "code",
   "execution_count": null,
   "id": "3b89b7bf",
   "metadata": {},
   "outputs": [],
   "source": [
    "hamm.filter(\n",
    "    (($\"g_quality_rule_principle_type\"  === \"3\")  &&\n",
    "    ($\"g_quality_rule_type\"    === \"1\")) &&\n",
    "    ($\"gf_qr_tg_object_physical_name\" === \"t_ft1l_regresos_operadores_ato\")\n",
    ")\n",
    ".select(\n",
    "\t\"gf_cutoff_date\",\n",
    "    \"g_quality_rule_principle_type\",\n",
    "    \"g_quality_rule_type\",\n",
    "    \"gf_quality_rule_compliance_per\",         \n",
    "    \"gf_qr_cplc_numerator_number\",   \n",
    "    \"gf_qr_cplc_denominator_number\",  \n",
    "    \"gf_qr_tg_object_physical_name\",\n",
    "    \"gf_qr_aux_attribute_desc\",   \n",
    "    \"gf_qr_aux_attribute1_desc\"\n",
    ").show(false)"
   ]
  },
  {
   "cell_type": "markdown",
   "id": "f29140fe",
   "metadata": {},
   "source": [
    "***"
   ]
  },
  {
   "cell_type": "markdown",
   "id": "4858e3fd",
   "metadata": {},
   "source": [
    "# Tablas:\n",
    "* t_crm_regresos_operadores_muz_c\n",
    "* t_ft1l_regresos_operadores_muz"
   ]
  },
  {
   "cell_type": "markdown",
   "id": "d4513d45",
   "metadata": {},
   "source": [
    "## Raw: t_crm_regresos_operadores_muz_c"
   ]
  },
  {
   "cell_type": "markdown",
   "id": "1992fc7e",
   "metadata": {},
   "source": [
    "### Regla 2.1: CompletenessRule"
   ]
  },
  {
   "cell_type": "code",
   "execution_count": null,
   "id": "cf607054",
   "metadata": {},
   "outputs": [],
   "source": [
    "hamm.filter(\n",
    "    (($\"g_quality_rule_principle_type\"  === \"2\")  &&\n",
    "    ($\"g_quality_rule_type\"    === \"1\")) &&\n",
    "    ($\"gf_qr_tg_object_physical_name\" === \"t_crm_regresos_operadores_muz_c\")\n",
    ")\n",
    ".select(\n",
    "\t\"gf_cutoff_date\",\n",
    "    \"g_quality_rule_principle_type\",\n",
    "    \"g_quality_rule_type\",\n",
    "    \"gf_quality_rule_compliance_per\",         \n",
    "    \"gf_qr_cplc_numerator_number\",   \n",
    "    \"gf_qr_cplc_denominator_number\",  \n",
    "    \"gf_qr_tg_object_physical_name\",\n",
    "    \"gf_qr_aux_attribute_desc\",   \n",
    "    \"gf_qr_aux_attribute1_desc\"\n",
    ").show(false)"
   ]
  },
  {
   "cell_type": "markdown",
   "id": "99e15d9c",
   "metadata": {},
   "source": [
    "### Regla 2.4: MetadataCompletenessRule"
   ]
  },
  {
   "cell_type": "code",
   "execution_count": null,
   "id": "b4679fef",
   "metadata": {},
   "outputs": [],
   "source": [
    "hamm.filter(\n",
    "    (($\"g_quality_rule_principle_type\"  === \"2\")  &&\n",
    "    ($\"g_quality_rule_type\"    === \"4\")) &&\n",
    "    ($\"gf_qr_tg_object_physical_name\" === \"t_crm_regresos_operadores_muz_c\")\n",
    ")\n",
    ".select(\n",
    "\t\"gf_cutoff_date\",\n",
    "    \"g_quality_rule_principle_type\",\n",
    "    \"g_quality_rule_type\",\n",
    "    \"gf_quality_rule_compliance_per\",         \n",
    "    \"gf_qr_cplc_numerator_number\",   \n",
    "    \"gf_qr_cplc_denominator_number\",  \n",
    "    \"gf_qr_tg_object_physical_name\",\n",
    "    \"gf_qr_aux_attribute_desc\",   \n",
    "    \"gf_qr_aux_attribute1_desc\"\n",
    ").show(false)"
   ]
  },
  {
   "cell_type": "markdown",
   "id": "a672894e",
   "metadata": {},
   "source": [
    "### Regla 2.2: BasicPerimeterCompletenessRule"
   ]
  },
  {
   "cell_type": "code",
   "execution_count": null,
   "id": "f0898d31",
   "metadata": {},
   "outputs": [],
   "source": [
    "hamm.filter(\n",
    "    (($\"g_quality_rule_principle_type\"  === \"2\")  &&\n",
    "    ($\"g_quality_rule_type\"    === \"2\")) &&\n",
    "    ($\"gf_qr_tg_object_physical_name\" === \"t_crm_regresos_operadores_muz_c\")\n",
    ")\n",
    ".select(\n",
    "\t\"gf_cutoff_date\",\n",
    "    \"g_quality_rule_principle_type\",\n",
    "    \"g_quality_rule_type\",\n",
    "    \"gf_quality_rule_compliance_per\",         \n",
    "    \"gf_qr_cplc_numerator_number\",   \n",
    "    \"gf_qr_cplc_denominator_number\",  \n",
    "    \"gf_qr_tg_object_physical_name\",\n",
    "    \"gf_qr_aux_attribute_desc\",   \n",
    "    \"gf_qr_aux_attribute1_desc\"\n",
    ").show(false)"
   ]
  },
  {
   "cell_type": "markdown",
   "id": "5b7e0b21",
   "metadata": {},
   "source": [
    "## Master: t_ft1l_regresos_operadores_muz"
   ]
  },
  {
   "cell_type": "markdown",
   "id": "482eb599",
   "metadata": {},
   "source": [
    "### Regla 1.1: DateRangeFileRule"
   ]
  },
  {
   "cell_type": "code",
   "execution_count": null,
   "id": "72eda7c0",
   "metadata": {},
   "outputs": [],
   "source": [
    "hamm.filter(\n",
    "    (($\"g_quality_rule_principle_type\"  === \"1\")  &&\n",
    "    ($\"g_quality_rule_type\"    === \"1\")) &&\n",
    "    ($\"gf_qr_tg_object_physical_name\" === \"t_ft1l_regresos_operadores_muz\")\n",
    ")\n",
    ".select(\n",
    "\t\"gf_cutoff_date\",\n",
    "    \"g_quality_rule_principle_type\",\n",
    "    \"g_quality_rule_type\",\n",
    "    \"gf_quality_rule_compliance_per\",         \n",
    "    \"gf_qr_cplc_numerator_number\",   \n",
    "    \"gf_qr_cplc_denominator_number\",  \n",
    "    \"gf_qr_tg_object_physical_name\",\n",
    "    \"gf_qr_aux_attribute_desc\",   \n",
    "    \"gf_qr_aux_attribute1_desc\"\n",
    ").show(false)"
   ]
  },
  {
   "cell_type": "markdown",
   "id": "4ac3c8d8",
   "metadata": {},
   "source": [
    "### Regla 2.3: ConditionalPerimeterCompletenessRule"
   ]
  },
  {
   "cell_type": "code",
   "execution_count": null,
   "id": "56cd9bff",
   "metadata": {},
   "outputs": [],
   "source": [
    "hamm.filter(\n",
    "    (($\"g_quality_rule_principle_type\"  === \"2\")  &&\n",
    "    ($\"g_quality_rule_type\"    === \"3\")) &&\n",
    "    ($\"gf_qr_tg_object_physical_name\" === \"t_ft1l_regresos_operadores_muz\")\n",
    ")\n",
    ".select(\n",
    "\t\"gf_cutoff_date\",\n",
    "    \"g_quality_rule_principle_type\",\n",
    "    \"g_quality_rule_type\",\n",
    "    \"gf_quality_rule_compliance_per\",         \n",
    "    \"gf_qr_cplc_numerator_number\",   \n",
    "    \"gf_qr_cplc_denominator_number\",  \n",
    "    \"gf_qr_tg_object_physical_name\",\n",
    "    \"gf_qr_aux_attribute_desc\",   \n",
    "    \"gf_qr_aux_attribute1_desc\"\n",
    ").show(false)"
   ]
  },
  {
   "cell_type": "markdown",
   "id": "fc3ea806",
   "metadata": {},
   "source": [
    "### Regla 3.1: NotNullValidationRule"
   ]
  },
  {
   "cell_type": "code",
   "execution_count": null,
   "id": "10a764e3",
   "metadata": {},
   "outputs": [],
   "source": [
    "hamm.filter(\n",
    "    (($\"g_quality_rule_principle_type\"  === \"3\")  &&\n",
    "    ($\"g_quality_rule_type\"    === \"1\")) &&\n",
    "    ($\"gf_qr_tg_object_physical_name\" === \"t_ft1l_regresos_operadores_muz\")\n",
    ")\n",
    ".select(\n",
    "\t\"gf_cutoff_date\",\n",
    "    \"g_quality_rule_principle_type\",\n",
    "    \"g_quality_rule_type\",\n",
    "    \"gf_quality_rule_compliance_per\",         \n",
    "    \"gf_qr_cplc_numerator_number\",   \n",
    "    \"gf_qr_cplc_denominator_number\",  \n",
    "    \"gf_qr_tg_object_physical_name\",\n",
    "    \"gf_qr_aux_attribute_desc\",   \n",
    "    \"gf_qr_aux_attribute1_desc\"\n",
    ").show(false)"
   ]
  },
  {
   "cell_type": "markdown",
   "id": "8eb2bc76",
   "metadata": {},
   "source": [
    "***"
   ]
  },
  {
   "cell_type": "markdown",
   "id": "8a825a37",
   "metadata": {},
   "source": [
    "# Tablas:\n",
    "* t_crm_regresos_operadores_vcp_c\n",
    "* t_ft1l_regresos_operadores_vcp"
   ]
  },
  {
   "cell_type": "markdown",
   "id": "2f3c3207",
   "metadata": {},
   "source": [
    "## Raw: t_crm_regresos_operadores_vcp_c"
   ]
  },
  {
   "cell_type": "markdown",
   "id": "7d76e8b6",
   "metadata": {},
   "source": [
    "### Regla 2.1: CompletenessRule"
   ]
  },
  {
   "cell_type": "code",
   "execution_count": null,
   "id": "05ddcd81",
   "metadata": {},
   "outputs": [],
   "source": [
    "hamm.filter(\n",
    "    (($\"g_quality_rule_principle_type\"  === \"2\")  &&\n",
    "    ($\"g_quality_rule_type\"    === \"1\")) &&\n",
    "    ($\"gf_qr_tg_object_physical_name\" === \"t_crm_regresos_operadores_vcp_c\")\n",
    ")\n",
    ".select(\n",
    "\t\"gf_cutoff_date\",\n",
    "    \"g_quality_rule_principle_type\",\n",
    "    \"g_quality_rule_type\",\n",
    "    \"gf_quality_rule_compliance_per\",         \n",
    "    \"gf_qr_cplc_numerator_number\",   \n",
    "    \"gf_qr_cplc_denominator_number\",  \n",
    "    \"gf_qr_tg_object_physical_name\",\n",
    "    \"gf_qr_aux_attribute_desc\",   \n",
    "    \"gf_qr_aux_attribute1_desc\"\n",
    ").show(false)"
   ]
  },
  {
   "cell_type": "markdown",
   "id": "bce29a0f",
   "metadata": {},
   "source": [
    "### Regla 2.4: MetadataCompletenessRule"
   ]
  },
  {
   "cell_type": "code",
   "execution_count": null,
   "id": "501216bd",
   "metadata": {},
   "outputs": [],
   "source": [
    "hamm.filter(\n",
    "    (($\"g_quality_rule_principle_type\"  === \"2\")  &&\n",
    "    ($\"g_quality_rule_type\"    === \"4\")) &&\n",
    "    ($\"gf_qr_tg_object_physical_name\" === \"t_crm_regresos_operadores_vcp_c\")\n",
    ")\n",
    ".select(\n",
    "\t\"gf_cutoff_date\",\n",
    "    \"g_quality_rule_principle_type\",\n",
    "    \"g_quality_rule_type\",\n",
    "    \"gf_quality_rule_compliance_per\",         \n",
    "    \"gf_qr_cplc_numerator_number\",   \n",
    "    \"gf_qr_cplc_denominator_number\",  \n",
    "    \"gf_qr_tg_object_physical_name\",\n",
    "    \"gf_qr_aux_attribute_desc\",   \n",
    "    \"gf_qr_aux_attribute1_desc\"\n",
    ").show(false)"
   ]
  },
  {
   "cell_type": "markdown",
   "id": "b66d95b9",
   "metadata": {},
   "source": [
    "### Regla 2.2: BasicPerimeterCompletenessRule"
   ]
  },
  {
   "cell_type": "code",
   "execution_count": null,
   "id": "96bb424e",
   "metadata": {},
   "outputs": [],
   "source": [
    "hamm.filter(\n",
    "    (($\"g_quality_rule_principle_type\"  === \"2\")  &&\n",
    "    ($\"g_quality_rule_type\"    === \"2\")) &&\n",
    "    ($\"gf_qr_tg_object_physical_name\" === \"t_crm_regresos_operadores_vcp_c\")\n",
    ")\n",
    ".select(\n",
    "\t\"gf_cutoff_date\",\n",
    "    \"g_quality_rule_principle_type\",\n",
    "    \"g_quality_rule_type\",\n",
    "    \"gf_quality_rule_compliance_per\",         \n",
    "    \"gf_qr_cplc_numerator_number\",   \n",
    "    \"gf_qr_cplc_denominator_number\",  \n",
    "    \"gf_qr_tg_object_physical_name\",\n",
    "    \"gf_qr_aux_attribute_desc\",   \n",
    "    \"gf_qr_aux_attribute1_desc\"\n",
    ").show(false)"
   ]
  },
  {
   "cell_type": "markdown",
   "id": "40393358",
   "metadata": {},
   "source": [
    "## Master: t_ft1l_regresos_operadores_vcp"
   ]
  },
  {
   "cell_type": "markdown",
   "id": "e9a266a4",
   "metadata": {},
   "source": [
    "### Regla 1.1: DateRangeFileRule"
   ]
  },
  {
   "cell_type": "code",
   "execution_count": null,
   "id": "2201a5a5",
   "metadata": {},
   "outputs": [],
   "source": [
    "hamm.filter(\n",
    "    (($\"g_quality_rule_principle_type\"  === \"1\")  &&\n",
    "    ($\"g_quality_rule_type\"    === \"1\")) &&\n",
    "    ($\"gf_qr_tg_object_physical_name\" === \"t_ft1l_regresos_operadores_vcp\")\n",
    ")\n",
    ".select(\n",
    "\t\"gf_cutoff_date\",\n",
    "    \"g_quality_rule_principle_type\",\n",
    "    \"g_quality_rule_type\",\n",
    "    \"gf_quality_rule_compliance_per\",         \n",
    "    \"gf_qr_cplc_numerator_number\",   \n",
    "    \"gf_qr_cplc_denominator_number\",  \n",
    "    \"gf_qr_tg_object_physical_name\",\n",
    "    \"gf_qr_aux_attribute_desc\",   \n",
    "    \"gf_qr_aux_attribute1_desc\"\n",
    ").show(false)"
   ]
  },
  {
   "cell_type": "markdown",
   "id": "1b8aad2e",
   "metadata": {},
   "source": [
    "### Regla 2.3: ConditionalPerimeterCompletenessRule"
   ]
  },
  {
   "cell_type": "code",
   "execution_count": null,
   "id": "6bd38814",
   "metadata": {},
   "outputs": [],
   "source": [
    "hamm.filter(\n",
    "    (($\"g_quality_rule_principle_type\"  === \"2\")  &&\n",
    "    ($\"g_quality_rule_type\"    === \"3\")) &&\n",
    "    ($\"gf_qr_tg_object_physical_name\" === \"t_ft1l_regresos_operadores_vcp\")\n",
    ")\n",
    ".select(\n",
    "\t\"gf_cutoff_date\",\n",
    "    \"g_quality_rule_principle_type\",\n",
    "    \"g_quality_rule_type\",\n",
    "    \"gf_quality_rule_compliance_per\",         \n",
    "    \"gf_qr_cplc_numerator_number\",   \n",
    "    \"gf_qr_cplc_denominator_number\",  \n",
    "    \"gf_qr_tg_object_physical_name\",\n",
    "    \"gf_qr_aux_attribute_desc\",   \n",
    "    \"gf_qr_aux_attribute1_desc\"\n",
    ").show(false)"
   ]
  },
  {
   "cell_type": "markdown",
   "id": "a5af81e3",
   "metadata": {},
   "source": [
    "### Regla 3.1: NotNullValidationRule"
   ]
  },
  {
   "cell_type": "code",
   "execution_count": null,
   "id": "4512ed43",
   "metadata": {},
   "outputs": [],
   "source": [
    "hamm.filter(\n",
    "    (($\"g_quality_rule_principle_type\"  === \"3\")  &&\n",
    "    ($\"g_quality_rule_type\"    === \"1\")) &&\n",
    "    ($\"gf_qr_tg_object_physical_name\" === \"t_ft1l_regresos_operadores_vcp\")\n",
    ")\n",
    ".select(\n",
    "\t\"gf_cutoff_date\",\n",
    "    \"g_quality_rule_principle_type\",\n",
    "    \"g_quality_rule_type\",\n",
    "    \"gf_quality_rule_compliance_per\",         \n",
    "    \"gf_qr_cplc_numerator_number\",   \n",
    "    \"gf_qr_cplc_denominator_number\",  \n",
    "    \"gf_qr_tg_object_physical_name\",\n",
    "    \"gf_qr_aux_attribute_desc\",   \n",
    "    \"gf_qr_aux_attribute1_desc\"\n",
    ").show(false)"
   ]
  }
 ],
 "metadata": {},
 "nbformat": 4,
 "nbformat_minor": 5
}
